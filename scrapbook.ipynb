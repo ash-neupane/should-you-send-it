{
 "cells": [
  {
   "cell_type": "code",
   "execution_count": 11,
   "metadata": {},
   "outputs": [],
   "source": [
    "import os, sys, json\n",
    "import requests\n",
    "from pprint import pprint"
   ]
  },
  {
   "cell_type": "markdown",
   "metadata": {},
   "source": []
  },
  {
   "cell_type": "code",
   "execution_count": 29,
   "metadata": {},
   "outputs": [],
   "source": [
    "import requests\n",
    "\n",
    "def make_api_call(endpoint: str, params: dict = None):\n",
    "    # Define latitude and longitude for the location you want weather data for\n",
    "    \n",
    "\n",
    "    # Step 1: Get the weather forecast office and grid point for the location\n",
    "    nws_api_url = f'https://api.weather.gov/{endpoint}'\n",
    "\n",
    "    # Send GET request to NWS API\n",
    "    response = requests.get(nws_api_url, headers={\"User-Agent\": \"(ashish-testing, contact: neupane.ashish@outlook.com)\"}, params=params)\n",
    "    response.raise_for_status()  # Check if request was successful\n",
    "    data = response.json()\n",
    "\n",
    "    return data\n",
    "\n",
    "def get_gps_from_loc(loc: str):\n",
    "    nominatim_url = f\"https://nominatim.openstreetmap.org/search\"\n",
    "    params = {\n",
    "        \"q\": loc,\n",
    "        \"format\": \"json\"\n",
    "    }\n",
    "    response = requests.get(nominatim_url, headers={\"User-Agent\": \"(ashish-testing, contact: neupane.ashish@outlook.com)\"}, params=params)\n",
    "    response.raise_for_status()  # Check if request was successful\n",
    "    data = response.json()\n",
    "    return data"
   ]
  },
  {
   "cell_type": "code",
   "execution_count": null,
   "metadata": {},
   "outputs": [],
   "source": [
    ":def get_gps_from_address(address: str):\n",
    "    gps_coordinates = \"\"\n",
    "\n",
    "    return gps_coordinates"
   ]
  },
  {
   "cell_type": "code",
   "execution_count": 86,
   "metadata": {},
   "outputs": [
    {
     "name": "stdout",
     "output_type": "stream",
     "text": [
      "{'@context': ['https://geojson.org/geojson-ld/geojson-context.jsonld',\n",
      "              {'@version': '1.1',\n",
      "               '@vocab': 'https://api.weather.gov/ontology#',\n",
      "               'bearing': {'@type': 's:QuantitativeValue'},\n",
      "               'city': 's:addressLocality',\n",
      "               'county': {'@type': '@id'},\n",
      "               'distance': {'@id': 's:Distance',\n",
      "                            '@type': 's:QuantitativeValue'},\n",
      "               'forecastGridData': {'@type': '@id'},\n",
      "               'forecastOffice': {'@type': '@id'},\n",
      "               'geo': 'http://www.opengis.net/ont/geosparql#',\n",
      "               'geometry': {'@id': 's:GeoCoordinates',\n",
      "                            '@type': 'geo:wktLiteral'},\n",
      "               'publicZone': {'@type': '@id'},\n",
      "               's': 'https://schema.org/',\n",
      "               'state': 's:addressRegion',\n",
      "               'unit': 'http://codes.wmo.int/common/unit/',\n",
      "               'unitCode': {'@id': 's:unitCode', '@type': '@id'},\n",
      "               'value': {'@id': 's:value'},\n",
      "               'wx': 'https://api.weather.gov/ontology#'}],\n",
      " 'geometry': {'coordinates': [-121.7562, 46.8517], 'type': 'Point'},\n",
      " 'id': 'https://api.weather.gov/points/46.8517,-121.7562',\n",
      " 'properties': {'@id': 'https://api.weather.gov/points/46.8517,-121.7562',\n",
      "                '@type': 'wx:Point',\n",
      "                'county': 'https://api.weather.gov/zones/county/WAC053',\n",
      "                'cwa': 'SEW',\n",
      "                'fireWeatherZone': 'https://api.weather.gov/zones/fire/WAZ659',\n",
      "                'forecast': 'https://api.weather.gov/gridpoints/SEW/136,29/forecast',\n",
      "                'forecastGridData': 'https://api.weather.gov/gridpoints/SEW/136,29',\n",
      "                'forecastHourly': 'https://api.weather.gov/gridpoints/SEW/136,29/forecast/hourly',\n",
      "                'forecastOffice': 'https://api.weather.gov/offices/SEW',\n",
      "                'forecastZone': 'https://api.weather.gov/zones/forecast/WAZ569',\n",
      "                'gridId': 'SEW',\n",
      "                'gridX': 136,\n",
      "                'gridY': 29,\n",
      "                'observationStations': 'https://api.weather.gov/gridpoints/SEW/136,29/stations',\n",
      "                'radarStation': 'KRTX',\n",
      "                'relativeLocation': {'geometry': {'coordinates': [-122.0203,\n",
      "                                                                  46.751313],\n",
      "                                                  'type': 'Point'},\n",
      "                                     'properties': {'bearing': {'unitCode': 'wmoUnit:degree_(angle)',\n",
      "                                                                'value': 60},\n",
      "                                                    'city': 'Ashford',\n",
      "                                                    'distance': {'unitCode': 'wmoUnit:m',\n",
      "                                                                 'value': 22993.53955724},\n",
      "                                                    'state': 'WA'},\n",
      "                                     'type': 'Feature'},\n",
      "                'timeZone': 'America/Los_Angeles'},\n",
      " 'type': 'Feature'}\n"
     ]
    }
   ],
   "source": [
    "latitude = 46.8517  # Example: Mt Rainier\n",
    "longitude = -121.7562\n",
    "endpoint = f\"points/{latitude},{longitude}\"\n",
    "data = make_api_call(endpoint)\n",
    "\n",
    "pprint(data)\n",
    "\n",
    "# # Extract forecast URL from the response\n",
    "# forecast_url = data['properties']['forecast']\n",
    "\n",
    "# # Step 2: Get the weather forecast from the extracted URL\n",
    "# forecast_response = requests.get(forecast_url)\n",
    "# forecast_response.raise_for_status()\n",
    "# forecast_data = forecast_response.json()\n",
    "\n",
    "# # Print out the forecast for the next few days\n",
    "# for period in forecast_data['properties']['periods']:\n",
    "#     print(f\"{period['name']}: {period['detailedForecast']}\")"
   ]
  },
  {
   "cell_type": "code",
   "execution_count": null,
   "metadata": {},
   "outputs": [],
   "source": []
  },
  {
   "cell_type": "code",
   "execution_count": null,
   "metadata": {},
   "outputs": [],
   "source": [
    "glossary_ep = \"glossary\"\n",
    "data = make_api_call(glossary_ep)[\"glossary\"]"
   ]
  },
  {
   "cell_type": "code",
   "execution_count": null,
   "metadata": {},
   "outputs": [],
   "source": [
    "print(len(data), type(data), data[252])"
   ]
  },
  {
   "cell_type": "code",
   "execution_count": null,
   "metadata": {},
   "outputs": [],
   "source": [
    "radar_ep = \"radar/stations\"\n",
    "radar_data = make_api_call(radar_ep)\n",
    "pprint(radar_data)"
   ]
  },
  {
   "cell_type": "code",
   "execution_count": null,
   "metadata": {},
   "outputs": [],
   "source": [
    "\n",
    "# print(len(radar_data[\"@graph\"]), radar_data[\"@graph\"][2])"
   ]
  },
  {
   "cell_type": "code",
   "execution_count": null,
   "metadata": {},
   "outputs": [],
   "source": [
    "products_ep = \"products/types\"\n",
    "products_data = make_api_call(products_ep)\n",
    "pprint(products_data)"
   ]
  },
  {
   "cell_type": "code",
   "execution_count": null,
   "metadata": {},
   "outputs": [],
   "source": [
    "zones_ep = \"zones\"\n",
    "zones_data = make_api_call(zones_ep)\n",
    "pprint(zones_data)"
   ]
  },
  {
   "cell_type": "code",
   "execution_count": null,
   "metadata": {},
   "outputs": [],
   "source": [
    "start_dt = \"2024-09-03T23:00:00Z\"\n",
    "end_dt = \"2024-09-10T23:00:00Z\"\n",
    "params = {\n",
    "    \"start\": start_dt,\n",
    "    \"end\": end_dt\n",
    "}\n",
    "observation_ep = \"stations/BUSW1/observations\"\n",
    "observation_data = make_api_call(observation_ep, params=params)\n",
    "pprint(observation_data)"
   ]
  },
  {
   "cell_type": "code",
   "execution_count": null,
   "metadata": {},
   "outputs": [],
   "source": []
  },
  {
   "cell_type": "markdown",
   "metadata": {},
   "source": [
    "# Nominatim\n",
    "\n",
    "Get GPS Coordinates from Location"
   ]
  },
  {
   "cell_type": "code",
   "execution_count": 35,
   "metadata": {},
   "outputs": [
    {
     "data": {
      "text/plain": [
       "[{'place_id': 317918323,\n",
       "  'licence': 'Data © OpenStreetMap contributors, ODbL 1.0. http://osm.org/copyright',\n",
       "  'osm_type': 'node',\n",
       "  'osm_id': 358928225,\n",
       "  'lat': '37.5775315',\n",
       "  'lon': '-105.485665',\n",
       "  'class': 'natural',\n",
       "  'type': 'peak',\n",
       "  'place_rank': 18,\n",
       "  'importance': 0.3977523933320028,\n",
       "  'addresstype': 'peak',\n",
       "  'name': 'Blanca Peak',\n",
       "  'display_name': 'Blanca Peak, Alamosa County, Colorado, United States',\n",
       "  'boundingbox': ['37.5774815', '37.5775815', '-105.4857150', '-105.4856150']}]"
      ]
     },
     "execution_count": 35,
     "metadata": {},
     "output_type": "execute_result"
    }
   ],
   "source": [
    "get_gps_from_loc(\"Blanca Peak\")"
   ]
  },
  {
   "cell_type": "code",
   "execution_count": 30,
   "metadata": {},
   "outputs": [],
   "source": [
    "nominatim_url = f\"https://nominatim.openstreetmap.org/search\"\n",
    "params = {\n",
    "    \"q\": \"Mt Rainier\",\n",
    "    \"format\": \"json\"\n",
    "}\n",
    "response = requests.get(nominatim_url, params=params, headers={\"User-Agent\": \"(ashish-testing, contact: neupane.ashish@outlook.com)\"})\n",
    "response.raise_for_status()  # Check if request was successful\n",
    "data = response.json()"
   ]
  },
  {
   "cell_type": "code",
   "execution_count": 25,
   "metadata": {},
   "outputs": [
    {
     "name": "stdout",
     "output_type": "stream",
     "text": [
      "{'addresstype': 'volcano',\n",
      " 'boundingbox': ['46.8520984', '46.8521984', '-121.7577320', '-121.7576320'],\n",
      " 'class': 'natural',\n",
      " 'display_name': 'Mount Rainier, Pierce County, Washington, United States',\n",
      " 'importance': 0.48533906671671656,\n",
      " 'lat': '46.8521484',\n",
      " 'licence': 'Data © OpenStreetMap contributors, ODbL 1.0. '\n",
      "            'http://osm.org/copyright',\n",
      " 'lon': '-121.757682',\n",
      " 'name': 'Mount Rainier',\n",
      " 'osm_id': 1744903493,\n",
      " 'osm_type': 'node',\n",
      " 'place_id': 313462950,\n",
      " 'place_rank': 18,\n",
      " 'type': 'volcano'}\n"
     ]
    }
   ],
   "source": [
    "pprint(data[0])"
   ]
  },
  {
   "cell_type": "code",
   "execution_count": 26,
   "metadata": {},
   "outputs": [
    {
     "name": "stdout",
     "output_type": "stream",
     "text": [
      "{'addresstype': 'city',\n",
      " 'boundingbox': ['38.9315222', '38.9540504', '-76.9744257', '-76.9555153'],\n",
      " 'class': 'boundary',\n",
      " 'display_name': \"Mount Rainier, Prince George's County, Maryland, 20712, \"\n",
      "                 'United States',\n",
      " 'importance': 0.381901719173517,\n",
      " 'lat': '38.9364848',\n",
      " 'licence': 'Data © OpenStreetMap contributors, ODbL 1.0. '\n",
      "            'http://osm.org/copyright',\n",
      " 'lon': '-76.9596981',\n",
      " 'name': 'Mount Rainier',\n",
      " 'osm_id': 133368,\n",
      " 'osm_type': 'relation',\n",
      " 'place_id': 4105758,\n",
      " 'place_rank': 16,\n",
      " 'type': 'administrative'}\n"
     ]
    }
   ],
   "source": [
    "pprint(data[1])"
   ]
  },
  {
   "cell_type": "code",
   "execution_count": null,
   "metadata": {},
   "outputs": [],
   "source": []
  }
 ],
 "metadata": {
  "kernelspec": {
   "display_name": "weather",
   "language": "python",
   "name": "python3"
  },
  "language_info": {
   "codemirror_mode": {
    "name": "ipython",
    "version": 3
   },
   "file_extension": ".py",
   "mimetype": "text/x-python",
   "name": "python",
   "nbconvert_exporter": "python",
   "pygments_lexer": "ipython3",
   "version": "3.12.4"
  }
 },
 "nbformat": 4,
 "nbformat_minor": 2
}
