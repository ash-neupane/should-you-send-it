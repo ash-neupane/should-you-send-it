{
 "cells": [
  {
   "cell_type": "code",
   "execution_count": null,
   "metadata": {},
   "outputs": [],
   "source": [
    "import os, sys, json\n",
    "import requests\n",
    "from pprint import pprint"
   ]
  },
  {
   "cell_type": "markdown",
   "metadata": {},
   "source": []
  },
  {
   "cell_type": "code",
   "execution_count": null,
   "metadata": {},
   "outputs": [],
   "source": [
    "import requests\n",
    "\n",
    "def make_api_call(endpoint: str, params: dict = None):\n",
    "    # Define latitude and longitude for the location you want weather data for\n",
    "    \n",
    "\n",
    "    # Step 1: Get the weather forecast office and grid point for the location\n",
    "    nws_api_url = f'https://api.weather.gov/{endpoint}'\n",
    "\n",
    "    # Send GET request to NWS API\n",
    "    response = requests.get(nws_api_url, headers={\"User-Agent\": \"(ashish-testing, contact: neupane.ashish@outlook.com)\"}, params=params)\n",
    "    response.raise_for_status()  # Check if request was successful\n",
    "    data = response.json()\n",
    "\n",
    "    return data\n",
    "\n",
    "def get_gps_from_loc(loc: str):\n",
    "    nominatim_url = f\"https://nominatim.openstreetmap.org/search\"\n",
    "    params = {\n",
    "        \"q\": loc,\n",
    "        \"format\": \"json\"\n",
    "    }\n",
    "    response = requests.get(nominatim_url, headers={\"User-Agent\": \"(ashish-testing, contact: neupane.ashish@outlook.com)\"}, params=params)\n",
    "    response.raise_for_status()  # Check if request was successful\n",
    "    data = response.json()\n",
    "    return data"
   ]
  },
  {
   "cell_type": "code",
   "execution_count": null,
   "metadata": {},
   "outputs": [],
   "source": [
    "def get_gps_from_address(address: str):\n",
    "    gps_coordinates = \"\"\n",
    "\n",
    "    return gps_coordinates"
   ]
  },
  {
   "cell_type": "code",
   "execution_count": null,
   "metadata": {},
   "outputs": [],
   "source": [
    "latitude = 46.8517  # Example: Mt Rainier\n",
    "longitude = -121.7562\n",
    "endpoint = f\"points/{latitude},{longitude}\"\n",
    "data = make_api_call(endpoint)\n",
    "\n",
    "pprint(data)\n",
    "\n",
    "# # Extract forecast URL from the response\n",
    "# forecast_url = data['properties']['forecast']\n",
    "\n",
    "# # Step 2: Get the weather forecast from the extracted URL\n",
    "# forecast_response = requests.get(forecast_url)\n",
    "# forecast_response.raise_for_status()\n",
    "# forecast_data = forecast_response.json()\n",
    "\n",
    "# # Print out the forecast for the next few days\n",
    "# for period in forecast_data['properties']['periods']:\n",
    "#     print(f\"{period['name']}: {period['detailedForecast']}\")"
   ]
  },
  {
   "cell_type": "code",
   "execution_count": null,
   "metadata": {},
   "outputs": [],
   "source": []
  },
  {
   "cell_type": "code",
   "execution_count": null,
   "metadata": {},
   "outputs": [],
   "source": [
    "glossary_ep = \"glossary\"\n",
    "data = make_api_call(glossary_ep)[\"glossary\"]"
   ]
  },
  {
   "cell_type": "code",
   "execution_count": null,
   "metadata": {},
   "outputs": [],
   "source": [
    "print(len(data), type(data), data[252])"
   ]
  },
  {
   "cell_type": "code",
   "execution_count": null,
   "metadata": {},
   "outputs": [],
   "source": [
    "radar_ep = \"radar/stations\"\n",
    "radar_data = make_api_call(radar_ep)\n",
    "pprint(radar_data)"
   ]
  },
  {
   "cell_type": "code",
   "execution_count": null,
   "metadata": {},
   "outputs": [],
   "source": [
    "\n",
    "# print(len(radar_data[\"@graph\"]), radar_data[\"@graph\"][2])"
   ]
  },
  {
   "cell_type": "code",
   "execution_count": null,
   "metadata": {},
   "outputs": [],
   "source": [
    "products_ep = \"products/types\"\n",
    "products_data = make_api_call(products_ep)\n",
    "pprint(products_data)"
   ]
  },
  {
   "cell_type": "code",
   "execution_count": null,
   "metadata": {},
   "outputs": [],
   "source": [
    "zones_ep = \"zones\"\n",
    "zones_data = make_api_call(zones_ep)\n",
    "pprint(zones_data)"
   ]
  },
  {
   "cell_type": "code",
   "execution_count": null,
   "metadata": {},
   "outputs": [],
   "source": [
    "start_dt = \"2024-09-03T23:00:00Z\"\n",
    "end_dt = \"2024-09-10T23:00:00Z\"\n",
    "params = {\n",
    "    \"start\": start_dt,\n",
    "    \"end\": end_dt\n",
    "}\n",
    "observation_ep = \"stations/BUSW1/observations\"\n",
    "observation_data = make_api_call(observation_ep, params=params)\n",
    "pprint(observation_data)"
   ]
  },
  {
   "cell_type": "code",
   "execution_count": null,
   "metadata": {},
   "outputs": [],
   "source": []
  },
  {
   "cell_type": "markdown",
   "metadata": {},
   "source": [
    "# Nominatim\n",
    "\n",
    "Get GPS Coordinates from Location"
   ]
  },
  {
   "cell_type": "code",
   "execution_count": null,
   "metadata": {},
   "outputs": [],
   "source": [
    "get_gps_from_loc(\"Blanca Peak\")"
   ]
  },
  {
   "cell_type": "code",
   "execution_count": null,
   "metadata": {},
   "outputs": [],
   "source": [
    "nominatim_url = f\"https://nominatim.openstreetmap.org/search\"\n",
    "params = {\n",
    "    \"q\": \"Mt Rainier\",\n",
    "    \"format\": \"json\"\n",
    "}\n",
    "response = requests.get(nominatim_url, params=params, headers={\"User-Agent\": \"(ashish-testing, contact: neupane.ashish@outlook.com)\"})\n",
    "response.raise_for_status()  # Check if request was successful\n",
    "data = response.json()"
   ]
  },
  {
   "cell_type": "code",
   "execution_count": null,
   "metadata": {},
   "outputs": [],
   "source": [
    "pprint(data[0])"
   ]
  },
  {
   "cell_type": "code",
   "execution_count": null,
   "metadata": {},
   "outputs": [],
   "source": [
    "pprint(data[1])"
   ]
  },
  {
   "cell_type": "code",
   "execution_count": null,
   "metadata": {},
   "outputs": [],
   "source": []
  },
  {
   "cell_type": "code",
   "execution_count": null,
   "metadata": {},
   "outputs": [],
   "source": [
    "with open(\"rainier_mock_data.json\", \"r\") as file:\n",
    "    data = json.load(file)"
   ]
  },
  {
   "cell_type": "code",
   "execution_count": null,
   "metadata": {},
   "outputs": [],
   "source": [
    "print(type(data))"
   ]
  },
  {
   "cell_type": "code",
   "execution_count": null,
   "metadata": {},
   "outputs": [],
   "source": [
    "print(data['properties'])"
   ]
  },
  {
   "cell_type": "code",
   "execution_count": null,
   "metadata": {},
   "outputs": [],
   "source": []
  }
 ],
 "metadata": {
  "kernelspec": {
   "display_name": "weather",
   "language": "python",
   "name": "python3"
  },
  "language_info": {
   "codemirror_mode": {
    "name": "ipython",
    "version": 3
   },
   "file_extension": ".py",
   "mimetype": "text/x-python",
   "name": "python",
   "nbconvert_exporter": "python",
   "pygments_lexer": "ipython3",
   "version": "3.12.4"
  }
 },
 "nbformat": 4,
 "nbformat_minor": 2
}
