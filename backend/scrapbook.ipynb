{
 "cells": [
  {
   "cell_type": "code",
   "execution_count": 1,
   "metadata": {},
   "outputs": [],
   "source": [
    "import os, sys, json\n",
    "import requests\n",
    "from pprint import pprint"
   ]
  },
  {
   "cell_type": "markdown",
   "metadata": {},
   "source": []
  },
  {
   "cell_type": "code",
   "execution_count": 2,
   "metadata": {},
   "outputs": [],
   "source": [
    "import requests\n",
    "\n",
    "def make_api_call(endpoint: str, params: dict = None):\n",
    "    # Define latitude and longitude for the location you want weather data for\n",
    "    \n",
    "\n",
    "    # Step 1: Get the weather forecast office and grid point for the location\n",
    "    nws_api_url = f'https://api.weather.gov/{endpoint}'\n",
    "\n",
    "    # Send GET request to NWS API\n",
    "    response = requests.get(nws_api_url, headers={\"User-Agent\": \"(ashish-testing, contact: neupane.ashish@outlook.com)\"}, params=params)\n",
    "    response.raise_for_status()  # Check if request was successful\n",
    "    data = response.json()\n",
    "\n",
    "    return data\n",
    "\n",
    "def get_gps_from_loc(loc: str):\n",
    "    nominatim_url = f\"https://nominatim.openstreetmap.org/search\"\n",
    "    params = {\n",
    "        \"q\": loc,\n",
    "        \"format\": \"json\"\n",
    "    }\n",
    "    response = requests.get(nominatim_url, headers={\"User-Agent\": \"(ashish-testing, contact: neupane.ashish@outlook.com)\"}, params=params)\n",
    "    response.raise_for_status()  # Check if request was successful\n",
    "    data = response.json()\n",
    "    return data"
   ]
  },
  {
   "cell_type": "code",
   "execution_count": 3,
   "metadata": {},
   "outputs": [
    {
     "ename": "SyntaxError",
     "evalue": "invalid syntax (2476917516.py, line 1)",
     "output_type": "error",
     "traceback": [
      "\u001b[0;36m  Cell \u001b[0;32mIn[3], line 1\u001b[0;36m\u001b[0m\n\u001b[0;31m    :def get_gps_from_address(address: str):\u001b[0m\n\u001b[0m    ^\u001b[0m\n\u001b[0;31mSyntaxError\u001b[0m\u001b[0;31m:\u001b[0m invalid syntax\n"
     ]
    }
   ],
   "source": [
    ":def get_gps_from_address(address: str):\n",
    "    gps_coordinates = \"\"\n",
    "\n",
    "    return gps_coordinates"
   ]
  },
  {
   "cell_type": "code",
   "execution_count": 4,
   "metadata": {},
   "outputs": [
    {
     "name": "stdout",
     "output_type": "stream",
     "text": [
      "{'@context': ['https://geojson.org/geojson-ld/geojson-context.jsonld',\n",
      "              {'@version': '1.1',\n",
      "               '@vocab': 'https://api.weather.gov/ontology#',\n",
      "               'bearing': {'@type': 's:QuantitativeValue'},\n",
      "               'city': 's:addressLocality',\n",
      "               'county': {'@type': '@id'},\n",
      "               'distance': {'@id': 's:Distance',\n",
      "                            '@type': 's:QuantitativeValue'},\n",
      "               'forecastGridData': {'@type': '@id'},\n",
      "               'forecastOffice': {'@type': '@id'},\n",
      "               'geo': 'http://www.opengis.net/ont/geosparql#',\n",
      "               'geometry': {'@id': 's:GeoCoordinates',\n",
      "                            '@type': 'geo:wktLiteral'},\n",
      "               'publicZone': {'@type': '@id'},\n",
      "               's': 'https://schema.org/',\n",
      "               'state': 's:addressRegion',\n",
      "               'unit': 'http://codes.wmo.int/common/unit/',\n",
      "               'unitCode': {'@id': 's:unitCode', '@type': '@id'},\n",
      "               'value': {'@id': 's:value'},\n",
      "               'wx': 'https://api.weather.gov/ontology#'}],\n",
      " 'geometry': {'coordinates': [-121.7562, 46.8517], 'type': 'Point'},\n",
      " 'id': 'https://api.weather.gov/points/46.8517,-121.7562',\n",
      " 'properties': {'@id': 'https://api.weather.gov/points/46.8517,-121.7562',\n",
      "                '@type': 'wx:Point',\n",
      "                'county': 'https://api.weather.gov/zones/county/WAC053',\n",
      "                'cwa': 'SEW',\n",
      "                'fireWeatherZone': 'https://api.weather.gov/zones/fire/WAZ659',\n",
      "                'forecast': 'https://api.weather.gov/gridpoints/SEW/136,29/forecast',\n",
      "                'forecastGridData': 'https://api.weather.gov/gridpoints/SEW/136,29',\n",
      "                'forecastHourly': 'https://api.weather.gov/gridpoints/SEW/136,29/forecast/hourly',\n",
      "                'forecastOffice': 'https://api.weather.gov/offices/SEW',\n",
      "                'forecastZone': 'https://api.weather.gov/zones/forecast/WAZ569',\n",
      "                'gridId': 'SEW',\n",
      "                'gridX': 136,\n",
      "                'gridY': 29,\n",
      "                'observationStations': 'https://api.weather.gov/gridpoints/SEW/136,29/stations',\n",
      "                'radarStation': 'KRTX',\n",
      "                'relativeLocation': {'geometry': {'coordinates': [-122.0203,\n",
      "                                                                  46.751313],\n",
      "                                                  'type': 'Point'},\n",
      "                                     'properties': {'bearing': {'unitCode': 'wmoUnit:degree_(angle)',\n",
      "                                                                'value': 60},\n",
      "                                                    'city': 'Ashford',\n",
      "                                                    'distance': {'unitCode': 'wmoUnit:m',\n",
      "                                                                 'value': 22993.53955724},\n",
      "                                                    'state': 'WA'},\n",
      "                                     'type': 'Feature'},\n",
      "                'timeZone': 'America/Los_Angeles'},\n",
      " 'type': 'Feature'}\n"
     ]
    }
   ],
   "source": [
    "latitude = 46.8517  # Example: Mt Rainier\n",
    "longitude = -121.7562\n",
    "endpoint = f\"points/{latitude},{longitude}\"\n",
    "data = make_api_call(endpoint)\n",
    "\n",
    "pprint(data)\n",
    "\n",
    "# # Extract forecast URL from the response\n",
    "# forecast_url = data['properties']['forecast']\n",
    "\n",
    "# # Step 2: Get the weather forecast from the extracted URL\n",
    "# forecast_response = requests.get(forecast_url)\n",
    "# forecast_response.raise_for_status()\n",
    "# forecast_data = forecast_response.json()\n",
    "\n",
    "# # Print out the forecast for the next few days\n",
    "# for period in forecast_data['properties']['periods']:\n",
    "#     print(f\"{period['name']}: {period['detailedForecast']}\")"
   ]
  },
  {
   "cell_type": "code",
   "execution_count": null,
   "metadata": {},
   "outputs": [],
   "source": []
  },
  {
   "cell_type": "code",
   "execution_count": null,
   "metadata": {},
   "outputs": [],
   "source": [
    "glossary_ep = \"glossary\"\n",
    "data = make_api_call(glossary_ep)[\"glossary\"]"
   ]
  },
  {
   "cell_type": "code",
   "execution_count": null,
   "metadata": {},
   "outputs": [],
   "source": [
    "print(len(data), type(data), data[252])"
   ]
  },
  {
   "cell_type": "code",
   "execution_count": null,
   "metadata": {},
   "outputs": [],
   "source": [
    "radar_ep = \"radar/stations\"\n",
    "radar_data = make_api_call(radar_ep)\n",
    "pprint(radar_data)"
   ]
  },
  {
   "cell_type": "code",
   "execution_count": null,
   "metadata": {},
   "outputs": [],
   "source": [
    "\n",
    "# print(len(radar_data[\"@graph\"]), radar_data[\"@graph\"][2])"
   ]
  },
  {
   "cell_type": "code",
   "execution_count": null,
   "metadata": {},
   "outputs": [],
   "source": [
    "products_ep = \"products/types\"\n",
    "products_data = make_api_call(products_ep)\n",
    "pprint(products_data)"
   ]
  },
  {
   "cell_type": "code",
   "execution_count": null,
   "metadata": {},
   "outputs": [],
   "source": [
    "zones_ep = \"zones\"\n",
    "zones_data = make_api_call(zones_ep)\n",
    "pprint(zones_data)"
   ]
  },
  {
   "cell_type": "code",
   "execution_count": null,
   "metadata": {},
   "outputs": [],
   "source": [
    "start_dt = \"2024-09-03T23:00:00Z\"\n",
    "end_dt = \"2024-09-10T23:00:00Z\"\n",
    "params = {\n",
    "    \"start\": start_dt,\n",
    "    \"end\": end_dt\n",
    "}\n",
    "observation_ep = \"stations/BUSW1/observations\"\n",
    "observation_data = make_api_call(observation_ep, params=params)\n",
    "pprint(observation_data)"
   ]
  },
  {
   "cell_type": "code",
   "execution_count": null,
   "metadata": {},
   "outputs": [],
   "source": []
  },
  {
   "cell_type": "markdown",
   "metadata": {},
   "source": [
    "# Nominatim\n",
    "\n",
    "Get GPS Coordinates from Location"
   ]
  },
  {
   "cell_type": "code",
   "execution_count": 35,
   "metadata": {},
   "outputs": [
    {
     "data": {
      "text/plain": [
       "[{'place_id': 317918323,\n",
       "  'licence': 'Data © OpenStreetMap contributors, ODbL 1.0. http://osm.org/copyright',\n",
       "  'osm_type': 'node',\n",
       "  'osm_id': 358928225,\n",
       "  'lat': '37.5775315',\n",
       "  'lon': '-105.485665',\n",
       "  'class': 'natural',\n",
       "  'type': 'peak',\n",
       "  'place_rank': 18,\n",
       "  'importance': 0.3977523933320028,\n",
       "  'addresstype': 'peak',\n",
       "  'name': 'Blanca Peak',\n",
       "  'display_name': 'Blanca Peak, Alamosa County, Colorado, United States',\n",
       "  'boundingbox': ['37.5774815', '37.5775815', '-105.4857150', '-105.4856150']}]"
      ]
     },
     "execution_count": 35,
     "metadata": {},
     "output_type": "execute_result"
    }
   ],
   "source": [
    "get_gps_from_loc(\"Blanca Peak\")"
   ]
  },
  {
   "cell_type": "code",
   "execution_count": 30,
   "metadata": {},
   "outputs": [],
   "source": [
    "nominatim_url = f\"https://nominatim.openstreetmap.org/search\"\n",
    "params = {\n",
    "    \"q\": \"Mt Rainier\",\n",
    "    \"format\": \"json\"\n",
    "}\n",
    "response = requests.get(nominatim_url, params=params, headers={\"User-Agent\": \"(ashish-testing, contact: neupane.ashish@outlook.com)\"})\n",
    "response.raise_for_status()  # Check if request was successful\n",
    "data = response.json()"
   ]
  },
  {
   "cell_type": "code",
   "execution_count": 25,
   "metadata": {},
   "outputs": [
    {
     "name": "stdout",
     "output_type": "stream",
     "text": [
      "{'addresstype': 'volcano',\n",
      " 'boundingbox': ['46.8520984', '46.8521984', '-121.7577320', '-121.7576320'],\n",
      " 'class': 'natural',\n",
      " 'display_name': 'Mount Rainier, Pierce County, Washington, United States',\n",
      " 'importance': 0.48533906671671656,\n",
      " 'lat': '46.8521484',\n",
      " 'licence': 'Data © OpenStreetMap contributors, ODbL 1.0. '\n",
      "            'http://osm.org/copyright',\n",
      " 'lon': '-121.757682',\n",
      " 'name': 'Mount Rainier',\n",
      " 'osm_id': 1744903493,\n",
      " 'osm_type': 'node',\n",
      " 'place_id': 313462950,\n",
      " 'place_rank': 18,\n",
      " 'type': 'volcano'}\n"
     ]
    }
   ],
   "source": [
    "pprint(data[0])"
   ]
  },
  {
   "cell_type": "code",
   "execution_count": 26,
   "metadata": {},
   "outputs": [
    {
     "name": "stdout",
     "output_type": "stream",
     "text": [
      "{'addresstype': 'city',\n",
      " 'boundingbox': ['38.9315222', '38.9540504', '-76.9744257', '-76.9555153'],\n",
      " 'class': 'boundary',\n",
      " 'display_name': \"Mount Rainier, Prince George's County, Maryland, 20712, \"\n",
      "                 'United States',\n",
      " 'importance': 0.381901719173517,\n",
      " 'lat': '38.9364848',\n",
      " 'licence': 'Data © OpenStreetMap contributors, ODbL 1.0. '\n",
      "            'http://osm.org/copyright',\n",
      " 'lon': '-76.9596981',\n",
      " 'name': 'Mount Rainier',\n",
      " 'osm_id': 133368,\n",
      " 'osm_type': 'relation',\n",
      " 'place_id': 4105758,\n",
      " 'place_rank': 16,\n",
      " 'type': 'administrative'}\n"
     ]
    }
   ],
   "source": [
    "pprint(data[1])"
   ]
  },
  {
   "cell_type": "code",
   "execution_count": null,
   "metadata": {},
   "outputs": [],
   "source": []
  },
  {
   "cell_type": "code",
   "execution_count": 7,
   "metadata": {},
   "outputs": [],
   "source": [
    "with open(\"rainier_mock_data.json\", \"r\") as file:\n",
    "    data = json.load(file)"
   ]
  },
  {
   "cell_type": "code",
   "execution_count": 8,
   "metadata": {},
   "outputs": [
    {
     "name": "stdout",
     "output_type": "stream",
     "text": [
      "<class 'dict'>\n"
     ]
    }
   ],
   "source": [
    "print(type(data))"
   ]
  },
  {
   "cell_type": "code",
   "execution_count": 9,
   "metadata": {},
   "outputs": [
    {
     "name": "stdout",
     "output_type": "stream",
     "text": [
      "{'units': 'us', 'forecastGenerator': 'BaselineForecastGenerator', 'generatedAt': '2024-09-26T00:19:58+00:00', 'updateTime': '2024-09-25T22:40:23+00:00', 'validTimes': '2024-09-25T16:00:00+00:00/P7DT12H', 'elevation': {'unitCode': 'wmoUnit:m', 'value': 3889.8576}, 'periods': [{'number': 1, 'name': 'This Afternoon', 'startTime': '2024-09-25T17:00:00-07:00', 'endTime': '2024-09-25T18:00:00-07:00', 'isDaytime': True, 'temperature': 31, 'temperatureUnit': 'F', 'temperatureTrend': '', 'probabilityOfPrecipitation': {'unitCode': 'wmoUnit:percent', 'value': 90}, 'windSpeed': '16 mph', 'windDirection': 'WSW', 'icon': 'https://api.weather.gov/icons/land/day/snow,90?size=medium', 'shortForecast': 'Snow Showers', 'detailedForecast': 'Snow showers and a slight chance of thunderstorms. Cloudy. High near 31, with temperatures falling to around 24 in the afternoon. Wind chill values as low as 11. West southwest wind around 16 mph, with gusts as high as 33 mph. Chance of precipitation is 90%. New snow accumulation of 2 to 4 inches possible.'}, {'number': 2, 'name': 'Tonight', 'startTime': '2024-09-25T18:00:00-07:00', 'endTime': '2024-09-26T06:00:00-07:00', 'isDaytime': False, 'temperature': 15, 'temperatureUnit': 'F', 'temperatureTrend': '', 'probabilityOfPrecipitation': {'unitCode': 'wmoUnit:percent', 'value': 60}, 'windSpeed': '14 to 31 mph', 'windDirection': 'WSW', 'icon': 'https://api.weather.gov/icons/land/night/snow,60/wind_bkn?size=medium', 'shortForecast': 'Snow Showers Likely then Mostly Cloudy', 'detailedForecast': 'Snow showers likely and a slight chance of thunderstorms before 8pm. Mostly cloudy. Low around 15, with temperatures rising to around 19 overnight. Wind chill values as low as -4. West southwest wind 14 to 31 mph, with gusts as high as 43 mph. Chance of precipitation is 60%. New snow accumulation of 2 to 4 inches possible.'}, {'number': 3, 'name': 'Thursday', 'startTime': '2024-09-26T06:00:00-07:00', 'endTime': '2024-09-26T18:00:00-07:00', 'isDaytime': True, 'temperature': 30, 'temperatureUnit': 'F', 'temperatureTrend': '', 'probabilityOfPrecipitation': {'unitCode': 'wmoUnit:percent', 'value': 30}, 'windSpeed': '7 to 13 mph', 'windDirection': 'W', 'icon': 'https://api.weather.gov/icons/land/day/few/snow,30?size=medium', 'shortForecast': 'Sunny then Chance Snow', 'detailedForecast': 'A chance of snow after 5pm. Sunny, with a high near 30. Wind chill values as low as 7. West wind 7 to 13 mph. Chance of precipitation is 30%. New snow accumulation of 2 to 4 inches possible.'}, {'number': 4, 'name': 'Thursday Night', 'startTime': '2024-09-26T18:00:00-07:00', 'endTime': '2024-09-27T06:00:00-07:00', 'isDaytime': False, 'temperature': 25, 'temperatureUnit': 'F', 'temperatureTrend': '', 'probabilityOfPrecipitation': {'unitCode': 'wmoUnit:percent', 'value': 80}, 'windSpeed': '12 to 31 mph', 'windDirection': 'WSW', 'icon': 'https://api.weather.gov/icons/land/night/snow,80?size=medium', 'shortForecast': 'Snow', 'detailedForecast': 'Snow before 5am. Mostly cloudy, with a low around 25. Wind chill values as low as 12. West southwest wind 12 to 31 mph, with gusts as high as 44 mph. Chance of precipitation is 80%. New snow accumulation of 4 to 6 inches possible.'}, {'number': 5, 'name': 'Friday', 'startTime': '2024-09-27T06:00:00-07:00', 'endTime': '2024-09-27T18:00:00-07:00', 'isDaytime': True, 'temperature': 28, 'temperatureUnit': 'F', 'temperatureTrend': '', 'probabilityOfPrecipitation': {'unitCode': 'wmoUnit:percent', 'value': None}, 'windSpeed': '6 to 26 mph', 'windDirection': 'WNW', 'icon': 'https://api.weather.gov/icons/land/day/wind_sct?size=medium', 'shortForecast': 'Mostly Sunny', 'detailedForecast': 'Mostly sunny, with a high near 28. West northwest wind 6 to 26 mph, with gusts as high as 36 mph. New rainfall amounts less than a tenth of an inch possible.'}, {'number': 6, 'name': 'Friday Night', 'startTime': '2024-09-27T18:00:00-07:00', 'endTime': '2024-09-28T06:00:00-07:00', 'isDaytime': False, 'temperature': 24, 'temperatureUnit': 'F', 'temperatureTrend': '', 'probabilityOfPrecipitation': {'unitCode': 'wmoUnit:percent', 'value': None}, 'windSpeed': '6 to 22 mph', 'windDirection': 'NNE', 'icon': 'https://api.weather.gov/icons/land/night/wind_sct?size=medium', 'shortForecast': 'Partly Cloudy', 'detailedForecast': 'Partly cloudy, with a low around 24.'}, {'number': 7, 'name': 'Saturday', 'startTime': '2024-09-28T06:00:00-07:00', 'endTime': '2024-09-28T18:00:00-07:00', 'isDaytime': True, 'temperature': 34, 'temperatureUnit': 'F', 'temperatureTrend': '', 'probabilityOfPrecipitation': {'unitCode': 'wmoUnit:percent', 'value': None}, 'windSpeed': '7 to 22 mph', 'windDirection': 'N', 'icon': 'https://api.weather.gov/icons/land/day/wind_sct?size=medium', 'shortForecast': 'Mostly Sunny', 'detailedForecast': 'Mostly sunny, with a high near 34.'}, {'number': 8, 'name': 'Saturday Night', 'startTime': '2024-09-28T18:00:00-07:00', 'endTime': '2024-09-29T06:00:00-07:00', 'isDaytime': False, 'temperature': 17, 'temperatureUnit': 'F', 'temperatureTrend': '', 'probabilityOfPrecipitation': {'unitCode': 'wmoUnit:percent', 'value': None}, 'windSpeed': '7 to 20 mph', 'windDirection': 'W', 'icon': 'https://api.weather.gov/icons/land/night/sct?size=medium', 'shortForecast': 'Partly Cloudy', 'detailedForecast': 'Partly cloudy, with a low around 17.'}, {'number': 9, 'name': 'Sunday', 'startTime': '2024-09-29T06:00:00-07:00', 'endTime': '2024-09-29T18:00:00-07:00', 'isDaytime': True, 'temperature': 25, 'temperatureUnit': 'F', 'temperatureTrend': '', 'probabilityOfPrecipitation': {'unitCode': 'wmoUnit:percent', 'value': None}, 'windSpeed': '12 to 20 mph', 'windDirection': 'NW', 'icon': 'https://api.weather.gov/icons/land/day/few?size=medium', 'shortForecast': 'Sunny', 'detailedForecast': 'Sunny, with a high near 25.'}, {'number': 10, 'name': 'Sunday Night', 'startTime': '2024-09-29T18:00:00-07:00', 'endTime': '2024-09-30T06:00:00-07:00', 'isDaytime': False, 'temperature': 18, 'temperatureUnit': 'F', 'temperatureTrend': '', 'probabilityOfPrecipitation': {'unitCode': 'wmoUnit:percent', 'value': None}, 'windSpeed': '12 to 23 mph', 'windDirection': 'NE', 'icon': 'https://api.weather.gov/icons/land/night/wind_few?size=medium', 'shortForecast': 'Mostly Clear', 'detailedForecast': 'Mostly clear, with a low around 18.'}, {'number': 11, 'name': 'Monday', 'startTime': '2024-09-30T06:00:00-07:00', 'endTime': '2024-09-30T18:00:00-07:00', 'isDaytime': True, 'temperature': 34, 'temperatureUnit': 'F', 'temperatureTrend': '', 'probabilityOfPrecipitation': {'unitCode': 'wmoUnit:percent', 'value': None}, 'windSpeed': '5 to 23 mph', 'windDirection': 'NE', 'icon': 'https://api.weather.gov/icons/land/day/wind_few?size=medium', 'shortForecast': 'Sunny', 'detailedForecast': 'Sunny, with a high near 34.'}, {'number': 12, 'name': 'Monday Night', 'startTime': '2024-09-30T18:00:00-07:00', 'endTime': '2024-10-01T06:00:00-07:00', 'isDaytime': False, 'temperature': 26, 'temperatureUnit': 'F', 'temperatureTrend': '', 'probabilityOfPrecipitation': {'unitCode': 'wmoUnit:percent', 'value': None}, 'windSpeed': '5 to 23 mph', 'windDirection': 'SE', 'icon': 'https://api.weather.gov/icons/land/night/wind_sct?size=medium', 'shortForecast': 'Partly Cloudy', 'detailedForecast': 'Partly cloudy, with a low around 26.'}, {'number': 13, 'name': 'Tuesday', 'startTime': '2024-10-01T06:00:00-07:00', 'endTime': '2024-10-01T18:00:00-07:00', 'isDaytime': True, 'temperature': 32, 'temperatureUnit': 'F', 'temperatureTrend': '', 'probabilityOfPrecipitation': {'unitCode': 'wmoUnit:percent', 'value': None}, 'windSpeed': '9 to 23 mph', 'windDirection': 'WSW', 'icon': 'https://api.weather.gov/icons/land/day/wind_sct/snow?size=medium', 'shortForecast': 'Mostly Sunny then Slight Chance Light Snow', 'detailedForecast': 'A slight chance of snow after 5pm. Mostly sunny, with a high near 32.'}, {'number': 14, 'name': 'Tuesday Night', 'startTime': '2024-10-01T18:00:00-07:00', 'endTime': '2024-10-02T06:00:00-07:00', 'isDaytime': False, 'temperature': 18, 'temperatureUnit': 'F', 'temperatureTrend': '', 'probabilityOfPrecipitation': {'unitCode': 'wmoUnit:percent', 'value': None}, 'windSpeed': '9 to 21 mph', 'windDirection': 'WNW', 'icon': 'https://api.weather.gov/icons/land/night/snow?size=medium', 'shortForecast': 'Slight Chance Light Snow', 'detailedForecast': 'A slight chance of snow before 5am. Mostly cloudy, with a low around 18.'}]}\n"
     ]
    }
   ],
   "source": [
    "print(data['properties'])"
   ]
  },
  {
   "cell_type": "code",
   "execution_count": null,
   "metadata": {},
   "outputs": [],
   "source": []
  }
 ],
 "metadata": {
  "kernelspec": {
   "display_name": "weather",
   "language": "python",
   "name": "python3"
  },
  "language_info": {
   "codemirror_mode": {
    "name": "ipython",
    "version": 3
   },
   "file_extension": ".py",
   "mimetype": "text/x-python",
   "name": "python",
   "nbconvert_exporter": "python",
   "pygments_lexer": "ipython3",
   "version": "3.12.4"
  }
 },
 "nbformat": 4,
 "nbformat_minor": 2
}
